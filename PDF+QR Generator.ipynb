{
 "cells": [
  {
   "cell_type": "code",
   "execution_count": 3,
   "id": "47b98863",
   "metadata": {
    "ExecuteTime": {
     "end_time": "2023-03-04T05:10:43.418187Z",
     "start_time": "2023-03-04T05:10:42.647966Z"
    }
   },
   "outputs": [
    {
     "name": "stdout",
     "output_type": "stream",
     "text": [
      "Requirement already satisfied: reportlab in c:\\users\\admin\\appdata\\local\\packages\\pythonsoftwarefoundation.python.3.11_qbz5n2kfra8p0\\localcache\\local-packages\\python311\\site-packages (4.0.4)\n",
      "Requirement already satisfied: pillow>=9.0.0 in c:\\users\\admin\\appdata\\local\\packages\\pythonsoftwarefoundation.python.3.11_qbz5n2kfra8p0\\localcache\\local-packages\\python311\\site-packages (from reportlab) (10.0.0)\n",
      "Note: you may need to restart the kernel to use updated packages.\n"
     ]
    },
    {
     "name": "stderr",
     "output_type": "stream",
     "text": [
      "\n",
      "[notice] A new release of pip is available: 23.2.1 -> 23.3.2\n",
      "[notice] To update, run: C:\\Users\\Admin\\AppData\\Local\\Microsoft\\WindowsApps\\PythonSoftwareFoundation.Python.3.11_qbz5n2kfra8p0\\python.exe -m pip install --upgrade pip\n",
      "\n",
      "[notice] A new release of pip is available: 23.2.1 -> 23.3.2\n",
      "[notice] To update, run: C:\\Users\\Admin\\AppData\\Local\\Microsoft\\WindowsApps\\PythonSoftwareFoundation.Python.3.11_qbz5n2kfra8p0\\python.exe -m pip install --upgrade pip\n"
     ]
    },
    {
     "name": "stdout",
     "output_type": "stream",
     "text": [
      "Requirement already satisfied: qrcode in c:\\users\\admin\\appdata\\local\\packages\\pythonsoftwarefoundation.python.3.11_qbz5n2kfra8p0\\localcache\\local-packages\\python311\\site-packages (7.4.2)\n",
      "Requirement already satisfied: typing-extensions in c:\\users\\admin\\appdata\\local\\packages\\pythonsoftwarefoundation.python.3.11_qbz5n2kfra8p0\\localcache\\local-packages\\python311\\site-packages (from qrcode) (4.7.1)\n",
      "Requirement already satisfied: pypng in c:\\users\\admin\\appdata\\local\\packages\\pythonsoftwarefoundation.python.3.11_qbz5n2kfra8p0\\localcache\\local-packages\\python311\\site-packages (from qrcode) (0.20220715.0)\n",
      "Requirement already satisfied: colorama in c:\\users\\admin\\appdata\\local\\packages\\pythonsoftwarefoundation.python.3.11_qbz5n2kfra8p0\\localcache\\local-packages\\python311\\site-packages (from qrcode) (0.4.6)\n",
      "Note: you may need to restart the kernel to use updated packages.\n",
      "Membership card generated for Customer 101\n",
      "Membership card generated for Customer 102\n",
      "Membership card generated for Customer 103\n",
      "Membership card generated for Customer 104\n",
      "Process completed.\n"
     ]
    }
   ],
   "source": [
    "%pip install reportlab\n",
    "%pip install qrcode\n",
    "\n",
    "import pandas as pd\n",
    "import qrcode\n",
    "import os\n",
    "from reportlab.lib.pagesizes import letter\n",
    "from reportlab.platypus import SimpleDocTemplate, Paragraph, Image, Spacer\n",
    "from reportlab.lib.styles import getSampleStyleSheet\n",
    "\n",
    "# DataFrame with customer information (example)\n",
    "data = { \n",
    "    \"CustomerID\": [\"101\", \"102\", \"103\", \"104\"],\n",
    "    \"Name\": [\"John Doe\", \"Jane Smith\", \"Michael Johnson\", \"Emily Brown\"],\n",
    "    \"Email\": [\"john@example.com\", \"jane@example.com\", \"michael@example.com\", \"emily@example.com\"],\n",
    "    \"Phone Number\": [\"123-456-7890\", \"987-654-3210\", \"555-123-4567\", \"888-999-0000\"],\n",
    "    \"Address\": [\"123 Main St\", \"456 Elm St\", \"789 Oak Ave\", \"555 Pine Rd\"],\n",
    "    \"City\": [\"City A\", \"City B\", \"City C\", \"City D\"],\n",
    "    \"Province\": [\"Province X\", \"Province Y\", \"Province Z\", \"Province W\"],\n",
    "    \"Country\": [\"Country 1\", \"Country 2\", \"Country 3\", \"Country 4\"]\n",
    "}\n",
    "\n",
    "df_customers = pd.DataFrame(data)\n",
    "\n",
    "# Function to generate QR code and save the image to a file\n",
    "def generate_qr(info, file_name):\n",
    "    qr = qrcode.QRCode(\n",
    "        version=1,\n",
    "        error_correction=qrcode.constants.ERROR_CORRECT_L,\n",
    "        box_size=10,\n",
    "        border=4,\n",
    "    )\n",
    "    qr.add_data(info)\n",
    "    qr.make(fit=True)\n",
    "    img = qr.make_image(fill_color=\"black\", back_color=\"white\")\n",
    "    img.save(file_name)\n",
    "    return img\n",
    "\n",
    "# Folder path to save PDF files and QR codes\n",
    "folder_path = r'C:\\Users\\Admin\\Desktop\\Portfolio\\PDF_Generation\\Output'\n",
    "\n",
    "\n",
    "# Check if the folder exists and create it if not\n",
    "if not os.path.exists(folder_path):\n",
    "    os.makedirs(folder_path)\n",
    "\n",
    "# Generate QR codes and PDF files for each customer\n",
    "for index, customer in df_customers.iterrows():\n",
    "    customer_id = customer[\"CustomerID\"]\n",
    "    customer_name = customer[\"Name\"]\n",
    "    customer_email = customer[\"Email\"]\n",
    "    customer_phone = customer[\"Phone Number\"]\n",
    "    customer_address = customer[\"Address\"]\n",
    "    customer_city = customer[\"City\"]\n",
    "    customer_province = customer[\"Province\"]\n",
    "    customer_country = customer[\"Country\"]\n",
    "    \n",
    "    # Combine customer information into a single text\n",
    "    customer_info = f'''\n",
    "    Customer ID: {customer_id}\n",
    "    Name: {customer_name}\n",
    "    Email: {customer_email}\n",
    "    Phone Number: {customer_phone}\n",
    "    Address: {customer_address}\n",
    "    City: {customer_city}\n",
    "    Province: {customer_province}\n",
    "    Country: {customer_country}\n",
    "    '''\n",
    "     \n",
    "    # Create a PDF with the customer's QR code and information\n",
    "    pdf_file_path = os.path.join(folder_path, f\"QR_Customer_{customer_id}.pdf\")\n",
    "    doc = SimpleDocTemplate(pdf_file_path, pagesize=letter)\n",
    "    story = []\n",
    "    \n",
    "    # Style for the PDF content\n",
    "    styles = getSampleStyleSheet()\n",
    "    style = styles[\"Normal\"]\n",
    "  \n",
    "\n",
    "    qr_file_path = os.path.join(folder_path, f\"QR_Customer_{customer_id}.png\")  # Full path of QR code\n",
    "    img_qr = generate_qr(customer_info, qr_file_path)\n",
    "#     print(f\"Nature Manitoba - Membership {customer_id}\")\n",
    "    \n",
    "    # Add the QR code and customer information to the PDF\n",
    "    qr_image = Image(qr_file_path, width=100, height=100)\n",
    "    customer_info_paragraph = Paragraph(customer_info, style)\n",
    "    story.append(Spacer(1, 20))\n",
    "    story.append(Paragraph(f\"Nature Manitoba - Membership {customer_id}\", style))\n",
    "    story.append(qr_image)\n",
    "    story.append(Spacer(1, 10))\n",
    "    story.append(customer_info_paragraph)\n",
    "    \n",
    "    # Close the PDF file\n",
    "    doc.build(story)\n",
    "    print(f\"Membership card generated for Customer {customer_id}\")\n",
    "\n",
    "print(\"Process completed.\")\n"
   ]
  }
 ],
 "metadata": {
  "hide_input": false,
  "kernelspec": {
   "display_name": "Python 3 (ipykernel)",
   "language": "python",
   "name": "python3"
  },
  "language_info": {
   "codemirror_mode": {
    "name": "ipython",
    "version": 3
   },
   "file_extension": ".py",
   "mimetype": "text/x-python",
   "name": "python",
   "nbconvert_exporter": "python",
   "pygments_lexer": "ipython3",
   "version": "3.11.7"
  },
  "nbTranslate": {
   "displayLangs": [
    "*"
   ],
   "hotkey": "alt-t",
   "langInMainMenu": true,
   "sourceLang": "en",
   "targetLang": "fr",
   "useGoogleTranslate": true
  },
  "toc": {
   "base_numbering": 1,
   "nav_menu": {},
   "number_sections": true,
   "sideBar": true,
   "skip_h1_title": false,
   "title_cell": "Table of Contents",
   "title_sidebar": "Contents",
   "toc_cell": false,
   "toc_position": {},
   "toc_section_display": true,
   "toc_window_display": false
  }
 },
 "nbformat": 4,
 "nbformat_minor": 5
}
